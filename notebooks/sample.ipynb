{
 "cells": [
  {
   "cell_type": "code",
   "execution_count": 1,
   "id": "3e9b16f0",
   "metadata": {},
   "outputs": [],
   "source": [
    "import pandas as pd\n",
    "\n",
    "def load_public_sheet(sheet_url):\n",
    "    # Convert Google Sheets URL to CSV export URL\n",
    "    sheet_id = sheet_url.split('/d/')[1].split('/')[0]\n",
    "    csv_url = f\"https://docs.google.com/spreadsheets/d/{sheet_id}/export?format=csv\"\n",
    "    \n",
    "    # Read directly with pandas\n",
    "    df = pd.read_csv(csv_url)\n",
    "    return df"
   ]
  },
  {
   "cell_type": "code",
   "execution_count": 2,
   "id": "9149962d",
   "metadata": {},
   "outputs": [
    {
     "name": "stdout",
     "output_type": "stream",
     "text": [
      "   STT                                         Tên Đề Tài  \\\n",
      "0    1  Development of a wireless sensor network for a...   \n",
      "1    2  Development of a NEMA Controller for Smart Str...   \n",
      "2    3  Phát triển ứng dụng VR cho việc giám sát và đi...   \n",
      "3    4  Tích hợp công nghệ NBIoT cho đồng hồ nước điện tử   \n",
      "4    5  Xây dựng hệ thống hỗ trợ đăng kí và check in c...   \n",
      "\n",
      "                        Link Canva Report (Editable)  \\\n",
      "0  https://www.canva.com/design/DAGF6z2n4H8/0GIMc...   \n",
      "1  https://www.canva.com/design/DAGFfInv7R0/oCL61...   \n",
      "2                           Thesis VR in Agriculture   \n",
      "3  https://www.canva.com/design/DAFvmua0V-8/jyQEf...   \n",
      "4  https://www.canva.com/design/DAGCWSa4mB0/oy1oc...   \n",
      "\n",
      "                                         Link Github  \\\n",
      "0  https://github.com/ACLAB-HCMUT/MDT-236-Capston...   \n",
      "1                                                NaN   \n",
      "2            Final source for VR Agriculture project   \n",
      "3            https://github.com/phucho123/DATN_Final   \n",
      "4    https://github.com/hoang6918/thesis_2013223_232   \n",
      "\n",
      "                     Link Overleaf Report (Editable)  \n",
      "0  https://www.overleaf.com/7479365147tkvrgrddqbj...  \n",
      "1  https://www.overleaf.com/3375693958qspdpkygnvg...  \n",
      "2                                             Report  \n",
      "3  https://www.overleaf.com/3189491287xmcrzkrbtpp...  \n",
      "4  https://www.overleaf.com/7767534175hqrnydjnmqr...  \n"
     ]
    }
   ],
   "source": [
    "data = load_public_sheet(\"https://docs.google.com/spreadsheets/d/1W4EtybMasTRdjprITFIDiGv4sNLzIGR8ADiUWQFfhy8/edit?usp=sharing\")\n",
    "print (data.head())"
   ]
  },
  {
   "cell_type": "code",
   "execution_count": 3,
   "id": "5d888cb2",
   "metadata": {},
   "outputs": [
    {
     "name": "stdout",
     "output_type": "stream",
     "text": [
      "Files:\n",
      "Signed Forms (1oAngjLvLnwYkL3dgZ0cBsyjtulr0GVjI)\n"
     ]
    }
   ],
   "source": [
    "# Test Google API credentials\n",
    "from google.oauth2 import service_account\n",
    "from googleapiclient.discovery import build\n",
    "\n",
    "# Path to your credential file\n",
    "SERVICE_ACCOUNT_FILE = \"automation-workflow-project-73a3cbdd2942.json\"\n",
    "# Define the scopes required\n",
    "SCOPES = ['https://www.googleapis.com/auth/drive.metadata.readonly']\n",
    "\n",
    "# Authenticate and build the service\n",
    "creds = service_account.Credentials.from_service_account_file(\n",
    "    SERVICE_ACCOUNT_FILE, scopes=SCOPES)\n",
    "\n",
    "service = build('drive', 'v3', credentials=creds)\n",
    "\n",
    "# List the first 10 files in your Google Drive\n",
    "results = service.files().list(pageSize=10, fields=\"files(id, name)\").execute()\n",
    "items = results.get('files', [])\n",
    "\n",
    "if not items:\n",
    "    print('No files found.')\n",
    "else:\n",
    "    print('Files:')\n",
    "    for item in items:\n",
    "        print(f\"{item['name']} ({item['id']})\")"
   ]
  },
  {
   "cell_type": "code",
   "execution_count": null,
   "id": "97772435",
   "metadata": {},
   "outputs": [
    {
     "ename": "FileNotFoundError",
     "evalue": "[Errno 2] No such file or directory: 'automation-workflow-project-73a3cbdd2942.json'",
     "output_type": "error",
     "traceback": [
      "\u001b[31m---------------------------------------------------------------------------\u001b[39m",
      "\u001b[31mFileNotFoundError\u001b[39m                         Traceback (most recent call last)",
      "\u001b[36mCell\u001b[39m\u001b[36m \u001b[39m\u001b[32mIn[2]\u001b[39m\u001b[32m, line 7\u001b[39m\n\u001b[32m      4\u001b[39m SERVICE_ACCOUNT_FILE = \u001b[33m\"\u001b[39m\u001b[33mautomation-workflow-project-73a3cbdd2942.json\u001b[39m\u001b[33m\"\u001b[39m\n\u001b[32m      5\u001b[39m SCOPES = [\u001b[33m'\u001b[39m\u001b[33mhttps://www.googleapis.com/auth/spreadsheets.readonly\u001b[39m\u001b[33m'\u001b[39m]\n\u001b[32m----> \u001b[39m\u001b[32m7\u001b[39m creds = \u001b[43mCredentials\u001b[49m\u001b[43m.\u001b[49m\u001b[43mfrom_service_account_file\u001b[49m\u001b[43m(\u001b[49m\u001b[43mSERVICE_ACCOUNT_FILE\u001b[49m\u001b[43m,\u001b[49m\u001b[43m \u001b[49m\u001b[43mscopes\u001b[49m\u001b[43m=\u001b[49m\u001b[43mSCOPES\u001b[49m\u001b[43m)\u001b[49m\n\u001b[32m      8\u001b[39m gc = gspread.authorize(creds)\n\u001b[32m     10\u001b[39m \u001b[38;5;66;03m# Replace with your Google Sheet ID\u001b[39;00m\n",
      "\u001b[36mFile \u001b[39m\u001b[32mc:\\Python311\\Lib\\site-packages\\google\\oauth2\\service_account.py:258\u001b[39m, in \u001b[36mCredentials.from_service_account_file\u001b[39m\u001b[34m(cls, filename, **kwargs)\u001b[39m\n\u001b[32m    246\u001b[39m \u001b[38;5;129m@classmethod\u001b[39m\n\u001b[32m    247\u001b[39m \u001b[38;5;28;01mdef\u001b[39;00m \u001b[34mfrom_service_account_file\u001b[39m(\u001b[38;5;28mcls\u001b[39m, filename, **kwargs):\n\u001b[32m    248\u001b[39m \u001b[38;5;250m    \u001b[39m\u001b[33;03m\"\"\"Creates a Credentials instance from a service account json file.\u001b[39;00m\n\u001b[32m    249\u001b[39m \n\u001b[32m    250\u001b[39m \u001b[33;03m    Args:\u001b[39;00m\n\u001b[32m   (...)\u001b[39m\u001b[32m    256\u001b[39m \u001b[33;03m            credentials.\u001b[39;00m\n\u001b[32m    257\u001b[39m \u001b[33;03m    \"\"\"\u001b[39;00m\n\u001b[32m--> \u001b[39m\u001b[32m258\u001b[39m     info, signer = \u001b[43m_service_account_info\u001b[49m\u001b[43m.\u001b[49m\u001b[43mfrom_filename\u001b[49m\u001b[43m(\u001b[49m\n\u001b[32m    259\u001b[39m \u001b[43m        \u001b[49m\u001b[43mfilename\u001b[49m\u001b[43m,\u001b[49m\u001b[43m \u001b[49m\u001b[43mrequire\u001b[49m\u001b[43m=\u001b[49m\u001b[43m[\u001b[49m\u001b[33;43m\"\u001b[39;49m\u001b[33;43mclient_email\u001b[39;49m\u001b[33;43m\"\u001b[39;49m\u001b[43m,\u001b[49m\u001b[43m \u001b[49m\u001b[33;43m\"\u001b[39;49m\u001b[33;43mtoken_uri\u001b[39;49m\u001b[33;43m\"\u001b[39;49m\u001b[43m]\u001b[49m\n\u001b[32m    260\u001b[39m \u001b[43m    \u001b[49m\u001b[43m)\u001b[49m\n\u001b[32m    261\u001b[39m     \u001b[38;5;28;01mreturn\u001b[39;00m \u001b[38;5;28mcls\u001b[39m._from_signer_and_info(signer, info, **kwargs)\n",
      "\u001b[36mFile \u001b[39m\u001b[32mc:\\Python311\\Lib\\site-packages\\google\\auth\\_service_account_info.py:78\u001b[39m, in \u001b[36mfrom_filename\u001b[39m\u001b[34m(filename, require, use_rsa_signer)\u001b[39m\n\u001b[32m     64\u001b[39m \u001b[38;5;28;01mdef\u001b[39;00m \u001b[34mfrom_filename\u001b[39m(filename, require=\u001b[38;5;28;01mNone\u001b[39;00m, use_rsa_signer=\u001b[38;5;28;01mTrue\u001b[39;00m):\n\u001b[32m     65\u001b[39m \u001b[38;5;250m    \u001b[39m\u001b[33;03m\"\"\"Reads a Google service account JSON file and returns its parsed info.\u001b[39;00m\n\u001b[32m     66\u001b[39m \n\u001b[32m     67\u001b[39m \u001b[33;03m    Args:\u001b[39;00m\n\u001b[32m   (...)\u001b[39m\u001b[32m     76\u001b[39m \u001b[33;03m            info and a signer instance.\u001b[39;00m\n\u001b[32m     77\u001b[39m \u001b[33;03m    \"\"\"\u001b[39;00m\n\u001b[32m---> \u001b[39m\u001b[32m78\u001b[39m     \u001b[38;5;28;01mwith\u001b[39;00m \u001b[43mio\u001b[49m\u001b[43m.\u001b[49m\u001b[43mopen\u001b[49m\u001b[43m(\u001b[49m\u001b[43mfilename\u001b[49m\u001b[43m,\u001b[49m\u001b[43m \u001b[49m\u001b[33;43m\"\u001b[39;49m\u001b[33;43mr\u001b[39;49m\u001b[33;43m\"\u001b[39;49m\u001b[43m,\u001b[49m\u001b[43m \u001b[49m\u001b[43mencoding\u001b[49m\u001b[43m=\u001b[49m\u001b[33;43m\"\u001b[39;49m\u001b[33;43mutf-8\u001b[39;49m\u001b[33;43m\"\u001b[39;49m\u001b[43m)\u001b[49m \u001b[38;5;28;01mas\u001b[39;00m json_file:\n\u001b[32m     79\u001b[39m         data = json.load(json_file)\n\u001b[32m     80\u001b[39m         \u001b[38;5;28;01mreturn\u001b[39;00m data, from_dict(data, require=require, use_rsa_signer=use_rsa_signer)\n",
      "\u001b[31mFileNotFoundError\u001b[39m: [Errno 2] No such file or directory: 'automation-workflow-project-73a3cbdd2942.json'"
     ]
    }
   ],
   "source": [
    "import gspread\n",
    "from google.oauth2.service_account import Credentials\n",
    "\n",
    "SERVICE_ACCOUNT_FILE = \"automation-workflow-project-73a3cbdd2942.json\"\n",
    "SCOPES = ['https://www.googleapis.com/auth/spreadsheets.readonly']\n",
    "\n",
    "creds = Credentials.from_service_account_file(SERVICE_ACCOUNT_FILE, scopes=SCOPES)\n",
    "gc = gspread.authorize(creds)\n",
    "\n",
    "# Replace with your Google Sheet ID\n",
    "SHEET_ID = \"1W4EtybMasTRdjprITFIDiGv4sNLzIGR8ADiUWQFfhy8\"\n",
    "sh = gc.open_by_key(SHEET_ID)\n",
    "worksheet = sh.sheet1\n",
    "print(\"First row of sheet:\", worksheet.row_values(1))"
   ]
  },
  {
   "cell_type": "code",
   "execution_count": null,
   "id": "28e1b50e",
   "metadata": {},
   "outputs": [
    {
     "name": "stdout",
     "output_type": "stream",
     "text": [
      "Drive files: []\n"
     ]
    }
   ],
   "source": [
    "from google.oauth2.service_account import Credentials\n",
    "from googleapiclient.discovery import build\n",
    "\n",
    "SERVICE_ACCOUNT_FILE = \"automation-workflow-project-73a3cbdd2942.json\"\n",
    "SCOPES = ['https://www.googleapis.com/auth/drive.metadata.readonly']\n",
    "\n",
    "creds = Credentials.from_service_account_file(SERVICE_ACCOUNT_FILE, scopes=SCOPES)\n",
    "service = build('drive', 'v3', credentials=creds)\n",
    "\n",
    "results = service.files().list(pageSize=5, fields=\"files(id, name)\").execute()\n",
    "items = results.get('files', [])\n",
    "print(\"Drive files:\", items)"
   ]
  },
  {
   "cell_type": "code",
   "execution_count": null,
   "id": "c22c3d8e",
   "metadata": {},
   "outputs": [
    {
     "ename": "HttpError",
     "evalue": "<HttpError 403 when requesting https://www.googleapis.com/upload/drive/v3/files?fields=id%2C+name&alt=json&uploadType=resumable returned \"Service Accounts do not have storage quota. Leverage shared drives (https://developers.google.com/workspace/drive/api/guides/about-shareddrives), or use OAuth delegation (http://support.google.com/a/answer/7281227) instead.\". Details: \"[{'message': 'Service Accounts do not have storage quota. Leverage shared drives (https://developers.google.com/workspace/drive/api/guides/about-shareddrives), or use OAuth delegation (http://support.google.com/a/answer/7281227) instead.', 'domain': 'usageLimits', 'reason': 'storageQuotaExceeded'}]\">",
     "output_type": "error",
     "traceback": [
      "\u001b[31m---------------------------------------------------------------------------\u001b[39m",
      "\u001b[31mHttpError\u001b[39m                                 Traceback (most recent call last)",
      "\u001b[36mCell\u001b[39m\u001b[36m \u001b[39m\u001b[32mIn[21]\u001b[39m\u001b[32m, line 29\u001b[39m\n\u001b[32m     19\u001b[39m file_metadata = {\n\u001b[32m     20\u001b[39m     \u001b[33m'\u001b[39m\u001b[33mname\u001b[39m\u001b[33m'\u001b[39m: os.path.basename(file_path),\n\u001b[32m     21\u001b[39m     \u001b[33m'\u001b[39m\u001b[33mparents\u001b[39m\u001b[33m'\u001b[39m: [folder_id]\n\u001b[32m     22\u001b[39m }\n\u001b[32m     23\u001b[39m media = MediaFileUpload(file_path, resumable=\u001b[38;5;28;01mTrue\u001b[39;00m)\n\u001b[32m     25\u001b[39m uploaded_file = \u001b[43mservice\u001b[49m\u001b[43m.\u001b[49m\u001b[43mfiles\u001b[49m\u001b[43m(\u001b[49m\u001b[43m)\u001b[49m\u001b[43m.\u001b[49m\u001b[43mcreate\u001b[49m\u001b[43m(\u001b[49m\n\u001b[32m     26\u001b[39m \u001b[43m    \u001b[49m\u001b[43mbody\u001b[49m\u001b[43m=\u001b[49m\u001b[43mfile_metadata\u001b[49m\u001b[43m,\u001b[49m\n\u001b[32m     27\u001b[39m \u001b[43m    \u001b[49m\u001b[43mmedia_body\u001b[49m\u001b[43m=\u001b[49m\u001b[43mmedia\u001b[49m\u001b[43m,\u001b[49m\n\u001b[32m     28\u001b[39m \u001b[43m    \u001b[49m\u001b[43mfields\u001b[49m\u001b[43m=\u001b[49m\u001b[33;43m'\u001b[39;49m\u001b[33;43mid, name\u001b[39;49m\u001b[33;43m'\u001b[39;49m\n\u001b[32m---> \u001b[39m\u001b[32m29\u001b[39m \u001b[43m)\u001b[49m\u001b[43m.\u001b[49m\u001b[43mexecute\u001b[49m\u001b[43m(\u001b[49m\u001b[43m)\u001b[49m\n\u001b[32m     31\u001b[39m \u001b[38;5;28mprint\u001b[39m(\u001b[33mf\u001b[39m\u001b[33m\"\u001b[39m\u001b[33mUploaded file: \u001b[39m\u001b[38;5;132;01m{\u001b[39;00muploaded_file[\u001b[33m'\u001b[39m\u001b[33mname\u001b[39m\u001b[33m'\u001b[39m]\u001b[38;5;132;01m}\u001b[39;00m\u001b[33m (ID: \u001b[39m\u001b[38;5;132;01m{\u001b[39;00muploaded_file[\u001b[33m'\u001b[39m\u001b[33mid\u001b[39m\u001b[33m'\u001b[39m]\u001b[38;5;132;01m}\u001b[39;00m\u001b[33m)\u001b[39m\u001b[33m\"\u001b[39m)\n",
      "\u001b[36mFile \u001b[39m\u001b[32mc:\\Python311\\Lib\\site-packages\\googleapiclient\\_helpers.py:130\u001b[39m, in \u001b[36mpositional.<locals>.positional_decorator.<locals>.positional_wrapper\u001b[39m\u001b[34m(*args, **kwargs)\u001b[39m\n\u001b[32m    128\u001b[39m     \u001b[38;5;28;01melif\u001b[39;00m positional_parameters_enforcement == POSITIONAL_WARNING:\n\u001b[32m    129\u001b[39m         logger.warning(message)\n\u001b[32m--> \u001b[39m\u001b[32m130\u001b[39m \u001b[38;5;28;01mreturn\u001b[39;00m \u001b[43mwrapped\u001b[49m\u001b[43m(\u001b[49m\u001b[43m*\u001b[49m\u001b[43margs\u001b[49m\u001b[43m,\u001b[49m\u001b[43m \u001b[49m\u001b[43m*\u001b[49m\u001b[43m*\u001b[49m\u001b[43mkwargs\u001b[49m\u001b[43m)\u001b[49m\n",
      "\u001b[36mFile \u001b[39m\u001b[32mc:\\Python311\\Lib\\site-packages\\googleapiclient\\http.py:902\u001b[39m, in \u001b[36mHttpRequest.execute\u001b[39m\u001b[34m(self, http, num_retries)\u001b[39m\n\u001b[32m    900\u001b[39m     body = \u001b[38;5;28;01mNone\u001b[39;00m\n\u001b[32m    901\u001b[39m     \u001b[38;5;28;01mwhile\u001b[39;00m body \u001b[38;5;129;01mis\u001b[39;00m \u001b[38;5;28;01mNone\u001b[39;00m:\n\u001b[32m--> \u001b[39m\u001b[32m902\u001b[39m         _, body = \u001b[38;5;28;43mself\u001b[39;49m\u001b[43m.\u001b[49m\u001b[43mnext_chunk\u001b[49m\u001b[43m(\u001b[49m\u001b[43mhttp\u001b[49m\u001b[43m=\u001b[49m\u001b[43mhttp\u001b[49m\u001b[43m,\u001b[49m\u001b[43m \u001b[49m\u001b[43mnum_retries\u001b[49m\u001b[43m=\u001b[49m\u001b[43mnum_retries\u001b[49m\u001b[43m)\u001b[49m\n\u001b[32m    903\u001b[39m     \u001b[38;5;28;01mreturn\u001b[39;00m body\n\u001b[32m    905\u001b[39m \u001b[38;5;66;03m# Non-resumable case.\u001b[39;00m\n",
      "\u001b[36mFile \u001b[39m\u001b[32mc:\\Python311\\Lib\\site-packages\\googleapiclient\\_helpers.py:130\u001b[39m, in \u001b[36mpositional.<locals>.positional_decorator.<locals>.positional_wrapper\u001b[39m\u001b[34m(*args, **kwargs)\u001b[39m\n\u001b[32m    128\u001b[39m     \u001b[38;5;28;01melif\u001b[39;00m positional_parameters_enforcement == POSITIONAL_WARNING:\n\u001b[32m    129\u001b[39m         logger.warning(message)\n\u001b[32m--> \u001b[39m\u001b[32m130\u001b[39m \u001b[38;5;28;01mreturn\u001b[39;00m \u001b[43mwrapped\u001b[49m\u001b[43m(\u001b[49m\u001b[43m*\u001b[49m\u001b[43margs\u001b[49m\u001b[43m,\u001b[49m\u001b[43m \u001b[49m\u001b[43m*\u001b[49m\u001b[43m*\u001b[49m\u001b[43mkwargs\u001b[49m\u001b[43m)\u001b[49m\n",
      "\u001b[36mFile \u001b[39m\u001b[32mc:\\Python311\\Lib\\site-packages\\googleapiclient\\http.py:1093\u001b[39m, in \u001b[36mHttpRequest.next_chunk\u001b[39m\u001b[34m(self, http, num_retries)\u001b[39m\n\u001b[32m   1090\u001b[39m     \u001b[38;5;28;01mif\u001b[39;00m \u001b[38;5;129;01mnot\u001b[39;00m _should_retry_response(resp.status, content):\n\u001b[32m   1091\u001b[39m         \u001b[38;5;28;01mbreak\u001b[39;00m\n\u001b[32m-> \u001b[39m\u001b[32m1093\u001b[39m \u001b[38;5;28;01mreturn\u001b[39;00m \u001b[38;5;28;43mself\u001b[39;49m\u001b[43m.\u001b[49m\u001b[43m_process_response\u001b[49m\u001b[43m(\u001b[49m\u001b[43mresp\u001b[49m\u001b[43m,\u001b[49m\u001b[43m \u001b[49m\u001b[43mcontent\u001b[49m\u001b[43m)\u001b[49m\n",
      "\u001b[36mFile \u001b[39m\u001b[32mc:\\Python311\\Lib\\site-packages\\googleapiclient\\http.py:1124\u001b[39m, in \u001b[36mHttpRequest._process_response\u001b[39m\u001b[34m(self, resp, content)\u001b[39m\n\u001b[32m   1122\u001b[39m \u001b[38;5;28;01melse\u001b[39;00m:\n\u001b[32m   1123\u001b[39m     \u001b[38;5;28mself\u001b[39m._in_error_state = \u001b[38;5;28;01mTrue\u001b[39;00m\n\u001b[32m-> \u001b[39m\u001b[32m1124\u001b[39m     \u001b[38;5;28;01mraise\u001b[39;00m HttpError(resp, content, uri=\u001b[38;5;28mself\u001b[39m.uri)\n\u001b[32m   1126\u001b[39m \u001b[38;5;28;01mreturn\u001b[39;00m (\n\u001b[32m   1127\u001b[39m     MediaUploadProgress(\u001b[38;5;28mself\u001b[39m.resumable_progress, \u001b[38;5;28mself\u001b[39m.resumable.size()),\n\u001b[32m   1128\u001b[39m     \u001b[38;5;28;01mNone\u001b[39;00m,\n\u001b[32m   1129\u001b[39m )\n",
      "\u001b[31mHttpError\u001b[39m: <HttpError 403 when requesting https://www.googleapis.com/upload/drive/v3/files?fields=id%2C+name&alt=json&uploadType=resumable returned \"Service Accounts do not have storage quota. Leverage shared drives (https://developers.google.com/workspace/drive/api/guides/about-shareddrives), or use OAuth delegation (http://support.google.com/a/answer/7281227) instead.\". Details: \"[{'message': 'Service Accounts do not have storage quota. Leverage shared drives (https://developers.google.com/workspace/drive/api/guides/about-shareddrives), or use OAuth delegation (http://support.google.com/a/answer/7281227) instead.', 'domain': 'usageLimits', 'reason': 'storageQuotaExceeded'}]\">"
     ]
    }
   ],
   "source": [
    "from google.oauth2.service_account import Credentials\n",
    "from googleapiclient.discovery import build\n",
    "from googleapiclient.http import MediaFileUpload\n",
    "import os\n",
    "\n",
    "SERVICE_ACCOUNT_FILE = \"automation-workflow-project-73a3cbdd2942.json\"\n",
    "SCOPES = ['https://www.googleapis.com/auth/drive.file']\n",
    "\n",
    "creds = Credentials.from_service_account_file(SERVICE_ACCOUNT_FILE, scopes=SCOPES)\n",
    "service = build('drive', 'v3', credentials=creds)\n",
    "\n",
    "folder_id = '1oAngjLvLnwYkL3dgZ0cBsyjtulr0GVjI'\n",
    "file_path = 'test_upload.txt'\n",
    "\n",
    "# Create a test file to upload\n",
    "with open(file_path, 'w') as f:\n",
    "    f.write('Hello from Google Drive API!')\n",
    "\n",
    "file_metadata = {\n",
    "    'name': os.path.basename(file_path),\n",
    "    'parents': [folder_id]\n",
    "}\n",
    "media = MediaFileUpload(file_path, resumable=True)\n",
    "\n",
    "uploaded_file = service.files().create(\n",
    "    body=file_metadata,\n",
    "    media_body=media,\n",
    "    fields='id, name'\n",
    ").execute()\n",
    "\n",
    "print(f\"Uploaded file: {uploaded_file['name']} (ID: {uploaded_file['id']})\")"
   ]
  },
  {
   "cell_type": "code",
   "execution_count": 1,
   "id": "4d0800cb",
   "metadata": {},
   "outputs": [
    {
     "name": "stdout",
     "output_type": "stream",
     "text": [
      "Please visit this URL to authorize this application: https://accounts.google.com/o/oauth2/auth?response_type=code&client_id=608833324413-fkq10e04u2pht5ksua1rm7j6bjtpeduo.apps.googleusercontent.com&redirect_uri=http%3A%2F%2Flocalhost%3A8080%2F&scope=https%3A%2F%2Fwww.googleapis.com%2Fauth%2Fdrive.file&state=PTireELNnJerYYOfpVuib4NSQzjpO8&access_type=offline\n",
      "Uploaded file: test_upload.txt (ID: 1p3hbgiFNSTOF2Tw9F0Wa0DBk1qkaCI_n)\n"
     ]
    }
   ],
   "source": [
    "from google_auth_oauthlib.flow import InstalledAppFlow\n",
    "from googleapiclient.discovery import build\n",
    "from googleapiclient.http import MediaFileUpload\n",
    "import os\n",
    "\n",
    "SCOPES = ['https://www.googleapis.com/auth/drive.file']\n",
    "CLIENT_SECRET_FILE = 'client_secret_608833324413-fkq10e04u2pht5ksua1rm7j6bjtpeduo.apps.googleusercontent.com.json'\n",
    "\n",
    "# Run local server for authentication\n",
    "flow = InstalledAppFlow.from_client_secrets_file(CLIENT_SECRET_FILE, SCOPES)\n",
    "creds = flow.run_local_server(port=8080)\n",
    "\n",
    "service = build('drive', 'v3', credentials=creds)\n",
    "\n",
    "folder_id = '1oAngjLvLnwYkL3dgZ0cBsyjtulr0GVjI'  # Your folder ID\n",
    "file_path = 'test_upload.txt'\n",
    "\n",
    "# Create a test file to upload\n",
    "with open(file_path, 'w') as f:\n",
    "    f.write('Hello from Google Drive API with OAuth!')\n",
    "\n",
    "file_metadata = {\n",
    "    'name': os.path.basename(file_path),\n",
    "    'parents': [folder_id]\n",
    "}\n",
    "media = MediaFileUpload(file_path, resumable=True)\n",
    "\n",
    "uploaded_file = service.files().create(\n",
    "    body=file_metadata,\n",
    "    media_body=media,\n",
    "    fields='id, name'\n",
    ").execute()\n",
    "\n",
    "print(f\"Uploaded file: {uploaded_file['name']} (ID: {uploaded_file['id']})\")"
   ]
  },
  {
   "cell_type": "code",
   "execution_count": 1,
   "id": "a652017e",
   "metadata": {},
   "outputs": [
    {
     "name": "stdout",
     "output_type": "stream",
     "text": [
      "Please visit this URL to authorize this application: https://accounts.google.com/o/oauth2/auth?response_type=code&client_id=608833324413-fkq10e04u2pht5ksua1rm7j6bjtpeduo.apps.googleusercontent.com&redirect_uri=http%3A%2F%2Flocalhost%3A8080%2F&scope=https%3A%2F%2Fwww.googleapis.com%2Fauth%2Fgmail.send&state=erHA8GrE5LNSIARynMtgRvi4IUDmDr&access_type=offline\n",
      "Email sent! Message ID: 198851ecf756f052\n"
     ]
    }
   ],
   "source": [
    "from google_auth_oauthlib.flow import InstalledAppFlow\n",
    "from googleapiclient.discovery import build\n",
    "from email.mime.text import MIMEText\n",
    "import base64\n",
    "\n",
    "SCOPES = ['https://www.googleapis.com/auth/gmail.send']\n",
    "CLIENT_SECRET_FILE = 'client_secret_608833324413-fkq10e04u2pht5ksua1rm7j6bjtpeduo.apps.googleusercontent.com.json'\n",
    "\n",
    "# Authenticate and build the Gmail service\n",
    "flow = InstalledAppFlow.from_client_secrets_file(CLIENT_SECRET_FILE, SCOPES)\n",
    "creds = flow.run_local_server(port=8080)\n",
    "service = build('gmail', 'v1', credentials=creds)\n",
    "\n",
    "# Prepare the email\n",
    "to = \"hieu.nguyenminh03@hcmut.edu.vn\"  # Replace with recipient's email\n",
    "subject = \"Test Email from Gmail API\"\n",
    "body = \"Hello, this is a test email sent from Python using Gmail API!\"\n",
    "\n",
    "message = MIMEText(body)\n",
    "message['to'] = to\n",
    "message['subject'] = subject\n",
    "\n",
    "# Encode the message\n",
    "raw_message = base64.urlsafe_b64encode(message.as_bytes()).decode()\n",
    "\n",
    "# Send the email\n",
    "send_message = service.users().messages().send(\n",
    "    userId=\"me\",\n",
    "    body={'raw': raw_message}\n",
    ").execute()\n",
    "\n",
    "print(f\"Email sent! Message ID: {send_message['id']}\")"
   ]
  }
 ],
 "metadata": {
  "kernelspec": {
   "display_name": "Python 3",
   "language": "python",
   "name": "python3"
  },
  "language_info": {
   "codemirror_mode": {
    "name": "ipython",
    "version": 3
   },
   "file_extension": ".py",
   "mimetype": "text/x-python",
   "name": "python",
   "nbconvert_exporter": "python",
   "pygments_lexer": "ipython3",
   "version": "3.11.7"
  }
 },
 "nbformat": 4,
 "nbformat_minor": 5
}
